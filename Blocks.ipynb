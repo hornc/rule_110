{
 "cells": [
  {
   "cell_type": "code",
   "execution_count": 155,
   "metadata": {},
   "outputs": [],
   "source": [
    "from PIL import Image\n",
    "import numpy as np\n",
    "from collections import Counter\n"
   ]
  },
  {
   "cell_type": "code",
   "execution_count": 156,
   "metadata": {},
   "outputs": [],
   "source": [
    "ORIG_BACKGROUND = 128\n",
    "ORIG_WHITE = 255\n",
    "ORIG_BLACK = 0\n",
    "ORIG_ZERO = 179"
   ]
  },
  {
   "cell_type": "code",
   "execution_count": 157,
   "metadata": {},
   "outputs": [],
   "source": [
    "NEW_BACKGROUND = 0\n",
    "NEW_WHITE = 255\n",
    "NEW_BLACK = 128\n",
    "NEW_ZERO = 0  # Don't need zero, need only background"
   ]
  },
  {
   "cell_type": "code",
   "execution_count": 158,
   "metadata": {},
   "outputs": [],
   "source": [
    "change = {\n",
    "    ORIG_BACKGROUND: NEW_BACKGROUND,\n",
    "    ORIG_WHITE: NEW_WHITE,\n",
    "    ORIG_BLACK: NEW_BLACK,\n",
    "    ORIG_ZERO: NEW_ZERO\n",
    "}"
   ]
  },
  {
   "cell_type": "code",
   "execution_count": 159,
   "metadata": {},
   "outputs": [],
   "source": [
    "def change_colors_t(x):\n",
    "    return change[x]\n",
    "\n",
    "change_colors = np.vectorize(change_colors_t)"
   ]
  },
  {
   "cell_type": "code",
   "execution_count": 160,
   "metadata": {},
   "outputs": [],
   "source": [
    "standard_blocks_names = list(\"DEFGHIJKL\")\n",
    "standard_blocks = {\n",
    "    name: change_colors(np.array(Image.open(f\"./blocks/{name}.png\"))) for name in standard_blocks_names\n",
    "}"
   ]
  },
  {
   "cell_type": "code",
   "execution_count": 161,
   "metadata": {},
   "outputs": [],
   "source": [
    "def is_tip(img, x, y):\n",
    "    ydim, xdim = img.shape\n",
    "    return y != 0 and y != ydim - 1 and \\\n",
    "           img[y, x] != NEW_BACKGROUND and \\\n",
    "           img[y - 1, x] == NEW_BACKGROUND and \\\n",
    "           img[y + 1, x] == NEW_BACKGROUND\n",
    "\n",
    "def is_left_tip(img, x, y):\n",
    "    return is_tip(img, x, y) and x != 0 and img[y, x - 1] == NEW_BACKGROUND\n",
    "\n",
    "def is_right_tip(img, x, y):\n",
    "    ydim, xdim = img.shape\n",
    "    return is_tip(img, x, y) and x != xdim - 1 and img[y, x + 1] == NEW_BACKGROUND"
   ]
  },
  {
   "cell_type": "code",
   "execution_count": 162,
   "metadata": {},
   "outputs": [],
   "source": [
    "from functools import partial"
   ]
  },
  {
   "cell_type": "code",
   "execution_count": 165,
   "metadata": {},
   "outputs": [],
   "source": [
    "def get_right_phase(block):\n",
    "    ydim, xdim = block.shape\n",
    "    xmesh, ymesh = np.meshgrid(np.arange(xdim), np.arange(ydim))\n",
    "    left_tips = np.transpose(np.nonzero(np.vectorize(partial(is_left_tip, block))(xmesh, ymesh)))\n",
    "    right_tips = np.transpose(np.nonzero(np.vectorize(partial(is_right_tip, block))(xmesh, ymesh)))\n",
    "    left_phase = set([(x % 8, y % 30) for y, x in left_tips])\n",
    "    right_phase = set([(x % 8, y % 30) for y, x in right_tips])\n",
    "    assert(len(left_phase) == 1)\n",
    "    assert(len(right_phase) == 1)\n",
    "    left = list(left_phase)[0][1]\n",
    "    assert(left == 7)\n",
    "    return list(right_phase)[0][1], left_tips, right_tips"
   ]
  },
  {
   "cell_type": "code",
   "execution_count": 167,
   "metadata": {},
   "outputs": [
    {
     "name": "stdout",
     "output_type": "stream",
     "text": [
      "D 21\n",
      "E 29\n",
      "F 23\n",
      "G 4\n",
      "H 0\n",
      "I 16\n",
      "J 22\n",
      "K 8\n",
      "L 7\n"
     ]
    }
   ],
   "source": [
    "for name, img in standard_blocks.items():\n",
    "    right, _, _ = get_right_phase(img)\n",
    "    print(name, right)"
   ]
  },
  {
   "cell_type": "code",
   "execution_count": 8,
   "metadata": {},
   "outputs": [],
   "source": [
    "def left_tip(img):\n",
    "    ydim, xdim = img.shape\n",
    "    columns = [(img[:, x] == NEW_BACKGROUND).all() for x in range(xdim)]\n",
    "    tip_col = columns.index(False)\n",
    "    tip_row = [e for e, x in enumerate(list(img[:, tip_col])) if x != NEW_BACKGROUND][0]\n",
    "    return (tip_col, tip_row)"
   ]
  },
  {
   "cell_type": "code",
   "execution_count": 9,
   "metadata": {},
   "outputs": [],
   "source": [
    "def right_hole(img):\n",
    "    ydim, xdim = img.shape\n",
    "    columns = [(img[:, x] != NEW_BACKGROUND).all() for x in range(xdim)]\n",
    "    hole_col = xdim - list(reversed(columns)).index(True)\n",
    "    hole_row = list(img[:, hole_col]).index(NEW_BACKGROUND)\n",
    "    return (hole_col, hole_row)"
   ]
  },
  {
   "cell_type": "code",
   "execution_count": 10,
   "metadata": {},
   "outputs": [],
   "source": [
    "flatten = lambda ll: [x for l in ll for x in l]"
   ]
  },
  {
   "cell_type": "code",
   "execution_count": 11,
   "metadata": {},
   "outputs": [],
   "source": [
    "def glue(A, B, ar, ac, br, bc):\n",
    "    ay, ax = A.shape\n",
    "    by, bx = B.shape\n",
    "\n",
    "    A.shape, B.shape\n",
    "\n",
    "    a1x, a1y = -ac, -ar\n",
    "    a2x, a2y = a1x + ax, a1y + ay\n",
    "\n",
    "    b1x, b1y = -bc, -br\n",
    "    b2x, b2y = b1x + bx, b1y + by\n",
    "\n",
    "    c1x = min(a1x, b1x)\n",
    "    c1y = min(a1y, b1y)\n",
    "\n",
    "    c2x = max(a2x, b2x)\n",
    "    c2y = max(a2y, b2y)\n",
    "\n",
    "    a1x, a2x = a1x - c1x, a2x - c1x\n",
    "    b1x, b2x = b1x - c1x, b2x - c1x\n",
    "    c1x, c2x = c1x - c1x, c2x - c1x\n",
    "\n",
    "    a1y, a2y = a1y - c1y, a2y - c1y\n",
    "    b1y, b2y = b1y - c1y, b2y - c1y\n",
    "    c1y, c2y = c1y - c1y, c2y - c1y\n",
    "    \n",
    "    assert(NEW_BACKGROUND == 0)\n",
    "    C = np.zeros((c2y, c2x))\n",
    "    C[a1y:a2y, a1x:a2x] += A\n",
    "    C[b1y:b2y, b1x:b2x] += B\n",
    "    \n",
    "    return C"
   ]
  },
  {
   "cell_type": "code",
   "execution_count": 19,
   "metadata": {},
   "outputs": [],
   "source": [
    "def glue_blocks(B, A):\n",
    "    ac, ar = left_tip(A)\n",
    "    bc, br = right_hole(B)\n",
    "    glued = glue(\n",
    "        A=A,\n",
    "        B=B,\n",
    "        ar=ar, ac=ac, br=br, bc=bc\n",
    "    )\n",
    "    return np.array(glued, dtype=np.uint8)"
   ]
  },
  {
   "cell_type": "code",
   "execution_count": 38,
   "metadata": {},
   "outputs": [
    {
     "data": {
      "image/png": "[encoded data removed]",
      "text/plain": [
       "<PIL.Image.Image image mode=L size=342x114 at 0x7FDD6AD2DED0>"
      ]
     },
     "execution_count": 38,
     "metadata": {},
     "output_type": "execute_result"
    }
   ],
   "source": [
    "merged = glue_blocks(standard_blocks[\"J\"], standard_blocks[\"D\"])\n",
    "img = Image.fromarray(merged, \"L\")\n",
    "img"
   ]
  },
  {
   "cell_type": "code",
   "execution_count": 40,
   "metadata": {},
   "outputs": [
    {
     "data": {
      "image/png": "[encoded data removed]",
      "text/plain": [
       "<PIL.Image.Image image mode=L size=112x100 at 0x7FDD6AD42F10>"
      ]
     },
     "execution_count": 40,
     "metadata": {},
     "output_type": "execute_result"
    }
   ],
   "source": [
    "Image.fromarray(np.array(standard_blocks[\"D\"], dtype=np.uint8), \"L\")"
   ]
  },
  {
   "cell_type": "code",
   "execution_count": 30,
   "metadata": {},
   "outputs": [
    {
     "ename": "ValueError",
     "evalue": "True is not in list",
     "output_type": "error",
     "traceback": [
      "\u001b[0;31m---------------------------------------------------------------------------\u001b[0m",
      "\u001b[0;31mValueError\u001b[0m                                Traceback (most recent call last)",
      "\u001b[0;32m<ipython-input-30-0030c4052e18>\u001b[0m in \u001b[0;36m<module>\u001b[0;34m()\u001b[0m\n\u001b[1;32m      4\u001b[0m \u001b[0;32mfor\u001b[0m \u001b[0mblock1\u001b[0m\u001b[0;34m,\u001b[0m \u001b[0mblock2\u001b[0m \u001b[0;32min\u001b[0m \u001b[0mproduct\u001b[0m\u001b[0;34m(\u001b[0m\u001b[0mstandard_blocks_names\u001b[0m\u001b[0;34m,\u001b[0m \u001b[0mstandard_blocks_names\u001b[0m\u001b[0;34m)\u001b[0m\u001b[0;34m:\u001b[0m\u001b[0;34m\u001b[0m\u001b[0;34m\u001b[0m\u001b[0m\n\u001b[1;32m      5\u001b[0m     \u001b[0;32mif\u001b[0m \u001b[0mblock2\u001b[0m \u001b[0;34m!=\u001b[0m \u001b[0;34m\"C\"\u001b[0m\u001b[0;34m:\u001b[0m\u001b[0;34m\u001b[0m\u001b[0;34m\u001b[0m\u001b[0m\n\u001b[0;32m----> 6\u001b[0;31m         \u001b[0mmerged\u001b[0m \u001b[0;34m=\u001b[0m \u001b[0mglue_blocks\u001b[0m\u001b[0;34m(\u001b[0m\u001b[0mstandard_blocks\u001b[0m\u001b[0;34m[\u001b[0m\u001b[0mblock1\u001b[0m\u001b[0;34m]\u001b[0m\u001b[0;34m,\u001b[0m \u001b[0mstandard_blocks\u001b[0m\u001b[0;34m[\u001b[0m\u001b[0mblock2\u001b[0m\u001b[0;34m]\u001b[0m\u001b[0;34m)\u001b[0m\u001b[0;34m\u001b[0m\u001b[0;34m\u001b[0m\u001b[0m\n\u001b[0m\u001b[1;32m      7\u001b[0m         \u001b[0mmerged\u001b[0m \u001b[0;34m=\u001b[0m \u001b[0mnp\u001b[0m\u001b[0;34m.\u001b[0m\u001b[0marray\u001b[0m\u001b[0;34m(\u001b[0m\u001b[0mmerged\u001b[0m\u001b[0;34m,\u001b[0m \u001b[0mdtype\u001b[0m\u001b[0;34m=\u001b[0m\u001b[0mnp\u001b[0m\u001b[0;34m.\u001b[0m\u001b[0muint8\u001b[0m\u001b[0;34m)\u001b[0m\u001b[0;34m\u001b[0m\u001b[0;34m\u001b[0m\u001b[0m\n\u001b[1;32m      8\u001b[0m         \u001b[0mimg\u001b[0m \u001b[0;34m=\u001b[0m \u001b[0mImage\u001b[0m\u001b[0;34m.\u001b[0m\u001b[0mfromarray\u001b[0m\u001b[0;34m(\u001b[0m\u001b[0mmerged\u001b[0m\u001b[0;34m,\u001b[0m \u001b[0mmode\u001b[0m\u001b[0;34m=\u001b[0m\u001b[0;34m\"L\"\u001b[0m\u001b[0;34m)\u001b[0m \u001b[0;31m# mode L is for 8-bit monochromatic pixels\u001b[0m\u001b[0;34m\u001b[0m\u001b[0;34m\u001b[0m\u001b[0m\n",
      "\u001b[0;32m<ipython-input-19-de01070a916e>\u001b[0m in \u001b[0;36mglue_blocks\u001b[0;34m(B, A)\u001b[0m\n\u001b[1;32m      1\u001b[0m \u001b[0;32mdef\u001b[0m \u001b[0mglue_blocks\u001b[0m\u001b[0;34m(\u001b[0m\u001b[0mB\u001b[0m\u001b[0;34m,\u001b[0m \u001b[0mA\u001b[0m\u001b[0;34m)\u001b[0m\u001b[0;34m:\u001b[0m\u001b[0;34m\u001b[0m\u001b[0;34m\u001b[0m\u001b[0m\n\u001b[1;32m      2\u001b[0m     \u001b[0mac\u001b[0m\u001b[0;34m,\u001b[0m \u001b[0mar\u001b[0m \u001b[0;34m=\u001b[0m \u001b[0mleft_tip\u001b[0m\u001b[0;34m(\u001b[0m\u001b[0mA\u001b[0m\u001b[0;34m)\u001b[0m\u001b[0;34m\u001b[0m\u001b[0;34m\u001b[0m\u001b[0m\n\u001b[0;32m----> 3\u001b[0;31m     \u001b[0mbc\u001b[0m\u001b[0;34m,\u001b[0m \u001b[0mbr\u001b[0m \u001b[0;34m=\u001b[0m \u001b[0mright_hole\u001b[0m\u001b[0;34m(\u001b[0m\u001b[0mB\u001b[0m\u001b[0;34m)\u001b[0m\u001b[0;34m\u001b[0m\u001b[0;34m\u001b[0m\u001b[0m\n\u001b[0m\u001b[1;32m      4\u001b[0m     glued = glue(\n\u001b[1;32m      5\u001b[0m         \u001b[0mA\u001b[0m\u001b[0;34m=\u001b[0m\u001b[0mA\u001b[0m\u001b[0;34m,\u001b[0m\u001b[0;34m\u001b[0m\u001b[0;34m\u001b[0m\u001b[0m\n",
      "\u001b[0;32m<ipython-input-9-385343264122>\u001b[0m in \u001b[0;36mright_hole\u001b[0;34m(img)\u001b[0m\n\u001b[1;32m      2\u001b[0m     \u001b[0mydim\u001b[0m\u001b[0;34m,\u001b[0m \u001b[0mxdim\u001b[0m \u001b[0;34m=\u001b[0m \u001b[0mimg\u001b[0m\u001b[0;34m.\u001b[0m\u001b[0mshape\u001b[0m\u001b[0;34m\u001b[0m\u001b[0;34m\u001b[0m\u001b[0m\n\u001b[1;32m      3\u001b[0m     \u001b[0mcolumns\u001b[0m \u001b[0;34m=\u001b[0m \u001b[0;34m[\u001b[0m\u001b[0;34m(\u001b[0m\u001b[0mimg\u001b[0m\u001b[0;34m[\u001b[0m\u001b[0;34m:\u001b[0m\u001b[0;34m,\u001b[0m \u001b[0mx\u001b[0m\u001b[0;34m]\u001b[0m \u001b[0;34m!=\u001b[0m \u001b[0mNEW_BACKGROUND\u001b[0m\u001b[0;34m)\u001b[0m\u001b[0;34m.\u001b[0m\u001b[0mall\u001b[0m\u001b[0;34m(\u001b[0m\u001b[0;34m)\u001b[0m \u001b[0;32mfor\u001b[0m \u001b[0mx\u001b[0m \u001b[0;32min\u001b[0m \u001b[0mrange\u001b[0m\u001b[0;34m(\u001b[0m\u001b[0mxdim\u001b[0m\u001b[0;34m)\u001b[0m\u001b[0;34m]\u001b[0m\u001b[0;34m\u001b[0m\u001b[0;34m\u001b[0m\u001b[0m\n\u001b[0;32m----> 4\u001b[0;31m     \u001b[0mhole_col\u001b[0m \u001b[0;34m=\u001b[0m \u001b[0mxdim\u001b[0m \u001b[0;34m-\u001b[0m \u001b[0mlist\u001b[0m\u001b[0;34m(\u001b[0m\u001b[0mreversed\u001b[0m\u001b[0;34m(\u001b[0m\u001b[0mcolumns\u001b[0m\u001b[0;34m)\u001b[0m\u001b[0;34m)\u001b[0m\u001b[0;34m.\u001b[0m\u001b[0mindex\u001b[0m\u001b[0;34m(\u001b[0m\u001b[0;32mTrue\u001b[0m\u001b[0;34m)\u001b[0m\u001b[0;34m\u001b[0m\u001b[0;34m\u001b[0m\u001b[0m\n\u001b[0m\u001b[1;32m      5\u001b[0m     \u001b[0mhole_row\u001b[0m \u001b[0;34m=\u001b[0m \u001b[0mlist\u001b[0m\u001b[0;34m(\u001b[0m\u001b[0mimg\u001b[0m\u001b[0;34m[\u001b[0m\u001b[0;34m:\u001b[0m\u001b[0;34m,\u001b[0m \u001b[0mhole_col\u001b[0m\u001b[0;34m]\u001b[0m\u001b[0;34m)\u001b[0m\u001b[0;34m.\u001b[0m\u001b[0mindex\u001b[0m\u001b[0;34m(\u001b[0m\u001b[0mNEW_BACKGROUND\u001b[0m\u001b[0;34m)\u001b[0m\u001b[0;34m\u001b[0m\u001b[0;34m\u001b[0m\u001b[0m\n\u001b[1;32m      6\u001b[0m     \u001b[0;32mreturn\u001b[0m \u001b[0;34m(\u001b[0m\u001b[0mhole_col\u001b[0m\u001b[0;34m,\u001b[0m \u001b[0mhole_row\u001b[0m\u001b[0;34m)\u001b[0m\u001b[0;34m\u001b[0m\u001b[0;34m\u001b[0m\u001b[0m\n",
      "\u001b[0;31mValueError\u001b[0m: True is not in list"
     ]
    }
   ],
   "source": [
    "from itertools import product\n",
    "\n",
    "merged_blocks = {}\n",
    "for block1, block2 in product(standard_blocks_names, standard_blocks_names):\n",
    "    if block2 != \"C\":\n",
    "        merged = glue_blocks(standard_blocks[block1], standard_blocks[block2])\n",
    "        merged = np.array(merged, dtype=np.uint8)\n",
    "        img = Image.fromarray(merged, mode=\"L\") # mode L is for 8-bit monochromatic pixels\n",
    "        merged_blocks[block1 + block2] = img"
   ]
  },
  {
   "cell_type": "code",
   "execution_count": 31,
   "metadata": {},
   "outputs": [
    {
     "data": {
      "text/plain": [
       "('D', 'D')"
      ]
     },
     "execution_count": 31,
     "metadata": {},
     "output_type": "execute_result"
    }
   ],
   "source": [
    "block1, block2"
   ]
  },
  {
   "cell_type": "code",
   "execution_count": null,
   "metadata": {},
   "outputs": [],
   "source": []
  }
 ],
 "metadata": {
  "kernelspec": {
   "display_name": "Python 3",
   "language": "python",
   "name": "python3"
  },
  "language_info": {
   "codemirror_mode": {
    "name": "ipython",
    "version": 3
   },
   "file_extension": ".py",
   "mimetype": "text/x-python",
   "name": "python",
   "nbconvert_exporter": "python",
   "pygments_lexer": "ipython3",
   "version": "3.7.6"
  }
 },
 "nbformat": 4,
 "nbformat_minor": 2
}
