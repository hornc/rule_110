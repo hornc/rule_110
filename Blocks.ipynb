{
 "cells": [
  {
   "cell_type": "code",
   "execution_count": 1,
   "metadata": {},
   "outputs": [],
   "source": [
    "from PIL import Image\n",
    "import numpy as np\n",
    "from collections import Counter"
   ]
  },
  {
   "cell_type": "code",
   "execution_count": 2,
   "metadata": {},
   "outputs": [],
   "source": [
    "ORIG_BACKGROUND = 128\n",
    "ORIG_WHITE = 255\n",
    "ORIG_BLACK = 0\n",
    "ORIG_ZERO = 179"
   ]
  },
  {
   "cell_type": "code",
   "execution_count": 3,
   "metadata": {},
   "outputs": [],
   "source": [
    "NEW_BACKGROUND = 0\n",
    "NEW_WHITE = 255\n",
    "NEW_BLACK = 128\n",
    "NEW_ZERO = 0  # Don't need zero, need only background"
   ]
  },
  {
   "cell_type": "code",
   "execution_count": 4,
   "metadata": {},
   "outputs": [],
   "source": [
    "change = {\n",
    "    ORIG_BACKGROUND: NEW_BACKGROUND,\n",
    "    ORIG_WHITE: NEW_WHITE,\n",
    "    ORIG_BLACK: NEW_BLACK,\n",
    "    ORIG_ZERO: NEW_ZERO\n",
    "}"
   ]
  },
  {
   "cell_type": "code",
   "execution_count": 5,
   "metadata": {},
   "outputs": [],
   "source": [
    "def change_colors_t(x):\n",
    "    return change[x]\n",
    "\n",
    "change_colors = np.vectorize(change_colors_t)"
   ]
  },
  {
   "cell_type": "code",
   "execution_count": 6,
   "metadata": {},
   "outputs": [],
   "source": [
    "blocks_names = list(\"ABCDEFGHIJKL\")\n",
    "all_blocks = {\n",
    "    name: change_colors(np.array(Image.open(f\"./blocks/{name}.png\"))) for name in blocks_names\n",
    "}"
   ]
  },
  {
   "cell_type": "code",
   "execution_count": 7,
   "metadata": {},
   "outputs": [],
   "source": [
    "standard_blocks_names = list(\"DEFGHIJKL\")\n",
    "standard_blocks = {\n",
    "    name: change_colors(np.array(Image.open(f\"./blocks/{name}.png\"))) for name in standard_blocks_names\n",
    "}"
   ]
  },
  {
   "cell_type": "code",
   "execution_count": 8,
   "metadata": {},
   "outputs": [],
   "source": [
    "left_block_names = list(\"AB\")"
   ]
  },
  {
   "cell_type": "code",
   "execution_count": 9,
   "metadata": {},
   "outputs": [],
   "source": [
    "C_block_raw = np.array(Image.open(f\"./blocks/C.png\"))"
   ]
  },
  {
   "cell_type": "code",
   "execution_count": 10,
   "metadata": {},
   "outputs": [],
   "source": [
    "y, x = np.meshgrid(np.arange(C_block_raw.shape[1]), np.arange(C_block_raw.shape[0]))"
   ]
  },
  {
   "cell_type": "code",
   "execution_count": 11,
   "metadata": {},
   "outputs": [],
   "source": [
    "zero_locs = set([y for y, x in np.transpose(np.nonzero(np.vectorize(lambda x, y: C_block_raw[x, y] == ORIG_ZERO)(x, y)))])\n",
    "assert(len(zero_locs) == 1)\n",
    "zero_loc = list(zero_locs)[0] % 30"
   ]
  },
  {
   "cell_type": "code",
   "execution_count": 12,
   "metadata": {},
   "outputs": [],
   "source": [
    "def is_tip(img, x, y):\n",
    "    ydim, xdim = img.shape\n",
    "    return y != 0 and y != ydim - 1 and \\\n",
    "           img[y, x] != NEW_BACKGROUND and \\\n",
    "           img[y - 1, x] == NEW_BACKGROUND and \\\n",
    "           img[y + 1, x] == NEW_BACKGROUND\n",
    "\n",
    "def is_left_tip(img, x, y):\n",
    "    return is_tip(img, x, y) and x != 0 and img[y, x - 1] == NEW_BACKGROUND\n",
    "\n",
    "def is_right_tip(img, x, y):\n",
    "    ydim, xdim = img.shape\n",
    "    return is_tip(img, x, y) and x != xdim - 1 and img[y, x + 1] == NEW_BACKGROUND"
   ]
  },
  {
   "cell_type": "code",
   "execution_count": 13,
   "metadata": {},
   "outputs": [],
   "source": [
    "from functools import partial"
   ]
  },
  {
   "cell_type": "code",
   "execution_count": 14,
   "metadata": {},
   "outputs": [],
   "source": [
    "CONST_LEFT_PHASE = 7\n",
    "\n",
    "def get_left_phase(block):\n",
    "    ydim, xdim = block.shape\n",
    "    xmesh, ymesh = np.meshgrid(np.arange(xdim), np.arange(ydim))\n",
    "    left_tips = np.transpose(np.nonzero(np.vectorize(partial(is_left_tip, block))(xmesh, ymesh)))\n",
    "    left_phase = set([(x % 8, y % 30) for y, x in left_tips])\n",
    "    assert(len(left_phase) == 1)\n",
    "    left = list(left_phase)[0][1]\n",
    "    assert(left == CONST_LEFT_PHASE)\n",
    "    return left, left_tips\n",
    "\n",
    "def get_right_phase(block):\n",
    "    ydim, xdim = block.shape\n",
    "    xmesh, ymesh = np.meshgrid(np.arange(xdim), np.arange(ydim))\n",
    "    right_tips = np.transpose(np.nonzero(np.vectorize(partial(is_right_tip, block))(xmesh, ymesh)))\n",
    "    right_phase = set([(x % 8, y % 30) for y, x in right_tips])\n",
    "    assert(len(right_phase) == 1)\n",
    "    return list(right_phase)[0][1], right_tips"
   ]
  },
  {
   "cell_type": "code",
   "execution_count": 15,
   "metadata": {},
   "outputs": [
    {
     "data": {
      "text/plain": [
       "18"
      ]
     },
     "execution_count": 15,
     "metadata": {},
     "output_type": "execute_result"
    }
   ],
   "source": [
    "c_right_phase, _ = get_right_phase(change_colors(C_block_raw))\n",
    "zero_loc, c_right_phase\n",
    "zero_phase = zero_loc - c_right_phase\n",
    "assert(zero_phase == 18)\n",
    "zero_phase"
   ]
  },
  {
   "cell_type": "code",
   "execution_count": 16,
   "metadata": {
    "scrolled": true
   },
   "outputs": [
    {
     "name": "stdout",
     "output_type": "stream",
     "text": [
      "D 21\n",
      "E 29\n",
      "F 23\n",
      "G 4\n",
      "H 0\n",
      "I 16\n",
      "J 22\n",
      "K 8\n",
      "L 7\n"
     ]
    }
   ],
   "source": [
    "for name, img in standard_blocks.items():\n",
    "    get_left_phase(img)\n",
    "    right, _ = get_right_phase(img)\n",
    "    print(name, right)"
   ]
  },
  {
   "cell_type": "code",
   "execution_count": 17,
   "metadata": {},
   "outputs": [],
   "source": [
    "def change_of_phase(incoming_phase, right_phase):\n",
    "    return (CONST_LEFT_PHASE + 1) - right_phase + incoming_phase"
   ]
  },
  {
   "cell_type": "code",
   "execution_count": 18,
   "metadata": {},
   "outputs": [],
   "source": [
    "def get_row(img, y):\n",
    "    row = img[y, :]\n",
    "    return row[np.vectorize(lambda x: x != NEW_BACKGROUND)(row)]"
   ]
  },
  {
   "cell_type": "code",
   "execution_count": 19,
   "metadata": {},
   "outputs": [],
   "source": [
    "assert(list(get_row(all_blocks[\"C\"], zero_loc))[:6] == [NEW_BLACK, NEW_WHITE, NEW_WHITE, NEW_BLACK, NEW_BLACK, NEW_WHITE])"
   ]
  },
  {
   "cell_type": "code",
   "execution_count": 27,
   "metadata": {},
   "outputs": [
    {
     "name": "stdout",
     "output_type": "stream",
     "text": [
      "2003\n"
     ]
    },
    {
     "data": {
      "text/plain": [
       "222.55555555555554"
      ]
     },
     "execution_count": 27,
     "metadata": {},
     "output_type": "execute_result"
    }
   ],
   "source": [
    "def generate_rhs_from_sequence(sequence, zero_phase):\n",
    "    row = []\n",
    "    row += list(get_row(all_blocks[\"C\"], zero_loc))\n",
    "    assert(sequence[0] == \"C\")\n",
    "    assert(zero_phase == 18)\n",
    "    for s in sequence[1:]:\n",
    "        assert(s in standard_blocks_names)\n",
    "        right_phase, _ = get_right_phase(all_blocks[s])\n",
    "        zero_phase = change_of_phase(zero_phase, right_phase)\n",
    "        row = row + list(get_row(all_blocks[s], zero_phase))\n",
    "    return (row, zero_phase)\n",
    "\n",
    "sequence = list(\"CEDEDFDEG\")\n",
    "print(len(generate_rhs_from_sequence(sequence, zero_phase)[0]))\n",
    "len(generate_rhs_from_sequence(sequence, zero_phase)[0]) / len(sequence)"
   ]
  },
  {
   "cell_type": "code",
   "execution_count": 21,
   "metadata": {},
   "outputs": [
    {
     "name": "stdout",
     "output_type": "stream",
     "text": [
      "762\n"
     ]
    },
    {
     "data": {
      "text/plain": [
       "29.307692307692307"
      ]
     },
     "execution_count": 21,
     "metadata": {},
     "output_type": "execute_result"
    }
   ],
   "source": [
    "def generate_lhs_from_sequence(sequence):\n",
    "    change_phase = {\n",
    "        \"B\": {\n",
    "                2: 1,\n",
    "                0: 2,\n",
    "                1: 0\n",
    "        },\n",
    "        \"A\": {\n",
    "                1: 1,\n",
    "                2: 2,\n",
    "                0: 0\n",
    "        }\n",
    "    }    \n",
    "    row = []\n",
    "    row += list(get_row(all_blocks[\"C\"], zero_loc))\n",
    "    assert(sequence[-1] == \"C\")\n",
    "    zero_phase = 0\n",
    "    for s in reversed(sequence[:-1]):\n",
    "        assert(s in left_block_names)\n",
    "        zero_phase = change_phase[s][zero_phase]\n",
    "        row = list(get_row(all_blocks[s], zero_phase)) + row \n",
    "    return (row, zero_phase)\n",
    "sequence = [\"A\"] * 11 + [\"B\"] + [\"A\"] * 12 + [\"B\"] + [\"C\"]\n",
    "print(len(generate_lhs_from_sequence(sequence)[0]))\n",
    "len(generate_lhs_from_sequence(sequence)[0]) / len(sequence)"
   ]
  },
  {
   "cell_type": "code",
   "execution_count": 22,
   "metadata": {},
   "outputs": [
    {
     "data": {
      "image/png": "[encoded data removed]",
      "text/plain": [
       "<PIL.Image.Image image mode=L size=342x114 at 0x7FF392130490>"
      ]
     },
     "execution_count": 22,
     "metadata": {},
     "output_type": "execute_result"
    }
   ],
   "source": [
    "def left_tip(img):\n",
    "    ydim, xdim = img.shape\n",
    "    columns = [(img[:, x] == NEW_BACKGROUND).all() for x in range(xdim)]\n",
    "    tip_col = columns.index(False)\n",
    "    tip_row = [e for e, x in enumerate(list(img[:, tip_col])) if x != NEW_BACKGROUND][0]\n",
    "    return (tip_col, tip_row)\n",
    "\n",
    "def right_hole(img):\n",
    "    ydim, xdim = img.shape\n",
    "    columns = [(img[:, x] != NEW_BACKGROUND).all() for x in range(xdim)]\n",
    "    hole_col = xdim - list(reversed(columns)).index(True)\n",
    "    hole_row = list(img[:, hole_col]).index(NEW_BACKGROUND)\n",
    "    return (hole_col, hole_row)\n",
    "\n",
    "flatten = lambda ll: [x for l in ll for x in l]\n",
    "\n",
    "def glue(A, B, ar, ac, br, bc):\n",
    "    ay, ax = A.shape\n",
    "    by, bx = B.shape\n",
    "\n",
    "    A.shape, B.shape\n",
    "\n",
    "    a1x, a1y = -ac, -ar\n",
    "    a2x, a2y = a1x + ax, a1y + ay\n",
    "\n",
    "    b1x, b1y = -bc, -br\n",
    "    b2x, b2y = b1x + bx, b1y + by\n",
    "\n",
    "    c1x = min(a1x, b1x)\n",
    "    c1y = min(a1y, b1y)\n",
    "\n",
    "    c2x = max(a2x, b2x)\n",
    "    c2y = max(a2y, b2y)\n",
    "\n",
    "    a1x, a2x = a1x - c1x, a2x - c1x\n",
    "    b1x, b2x = b1x - c1x, b2x - c1x\n",
    "    c1x, c2x = c1x - c1x, c2x - c1x\n",
    "\n",
    "    a1y, a2y = a1y - c1y, a2y - c1y\n",
    "    b1y, b2y = b1y - c1y, b2y - c1y\n",
    "    c1y, c2y = c1y - c1y, c2y - c1y\n",
    "    \n",
    "    assert(NEW_BACKGROUND == 0)\n",
    "    C = np.zeros((c2y, c2x))\n",
    "    C[a1y:a2y, a1x:a2x] += A\n",
    "    C[b1y:b2y, b1x:b2x] += B\n",
    "    \n",
    "    return C\n",
    "\n",
    "def glue_blocks(B, A):\n",
    "    ac, ar = left_tip(A)\n",
    "    bc, br = right_hole(B)\n",
    "    glued = glue(\n",
    "        A=A,\n",
    "        B=B,\n",
    "        ar=ar, ac=ac, br=br, bc=bc\n",
    "    )\n",
    "    return np.array(glued, dtype=np.uint8)\n",
    "\n",
    "merged = glue_blocks(standard_blocks[\"J\"], standard_blocks[\"D\"])\n",
    "img = Image.fromarray(merged, \"L\")\n",
    "img"
   ]
  },
  {
   "cell_type": "code",
   "execution_count": 23,
   "metadata": {},
   "outputs": [
    {
     "data": {
      "image/png": "[encoded data removed]",
      "text/plain": [
       "<PIL.Image.Image image mode=L size=501x122 at 0x7FF39208A6D0>"
      ]
     },
     "execution_count": 23,
     "metadata": {},
     "output_type": "execute_result"
    }
   ],
   "source": [
    "merged = glue_blocks(standard_blocks[\"H\"], standard_blocks[\"H\"])\n",
    "merged = np.array(merged, dtype=np.uint8)\n",
    "Image.fromarray(merged, mode=\"L\") # mode L is for 8-bit monochromatic pixels"
   ]
  },
  {
   "cell_type": "code",
   "execution_count": 24,
   "metadata": {},
   "outputs": [
    {
     "data": {
      "image/png": "[encoded data removed]",
      "text/plain": [
       "<PIL.Image.Image image mode=L size=199x100 at 0x7FF392079F10>"
      ]
     },
     "execution_count": 24,
     "metadata": {},
     "output_type": "execute_result"
    }
   ],
   "source": [
    "img = Image.fromarray(np.array(all_blocks[\"C\"], dtype=np.uint8), \"L\")\n",
    "img"
   ]
  }
 ],
 "metadata": {
  "kernelspec": {
   "display_name": "Python 3",
   "language": "python",
   "name": "python3"
  },
  "language_info": {
   "codemirror_mode": {
    "name": "ipython",
    "version": 3
   },
   "file_extension": ".py",
   "mimetype": "text/x-python",
   "name": "python",
   "nbconvert_exporter": "python",
   "pygments_lexer": "ipython3",
   "version": "3.7.6"
  }
 },
 "nbformat": 4,
 "nbformat_minor": 2
}
