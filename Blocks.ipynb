{
 "cells": [
  {
   "cell_type": "code",
   "execution_count": 5,
   "metadata": {},
   "outputs": [],
   "source": [
    "from PIL import Image"
   ]
  },
  {
   "cell_type": "code",
   "execution_count": 40,
   "metadata": {},
   "outputs": [],
   "source": [
    "BACKGROUND = 128\n",
    "WHITE = 255\n",
    "BLACK = 0\n",
    "ZERO = 178"
   ]
  },
  {
   "cell_type": "code",
   "execution_count": 272,
   "metadata": {},
   "outputs": [],
   "source": [
    "standard_blocks_names = list(\"EFGHIJKL\")\n",
    "standard_blocks = {\n",
    "    name: np.array(Image.open(f\"./blocks/{name}.png\")) for name in standard_blocks_names\n",
    "}"
   ]
  },
  {
   "cell_type": "code",
   "execution_count": 273,
   "metadata": {},
   "outputs": [
    {
     "data": {
      "image/png": "[encoded data removed]",
      "text/plain": [
       "<PIL.PngImagePlugin.PngImageFile image mode=L size=287x100 at 0x7F3354177E50>"
      ]
     },
     "execution_count": 273,
     "metadata": {},
     "output_type": "execute_result"
    }
   ],
   "source": [
    "imgI"
   ]
  },
  {
   "cell_type": "code",
   "execution_count": 274,
   "metadata": {},
   "outputs": [
    {
     "data": {
      "text/plain": [
       "{'E': (13, 7),\n",
       " 'F': (11, 7),\n",
       " 'G': (8, 7),\n",
       " 'H': (10, 7),\n",
       " 'I': (10, 7),\n",
       " 'J': (5, 7),\n",
       " 'K': (16, 7),\n",
       " 'L': (10, 7)}"
      ]
     },
     "execution_count": 274,
     "metadata": {},
     "output_type": "execute_result"
    }
   ],
   "source": [
    "left_tip = {}\n",
    "\n",
    "for name, img in standard_blocks.items():\n",
    "    ydim, xdim = img.shape\n",
    "    columns = [(img[:, x] == 128).all() for x in range(xdim)]\n",
    "    tip_col = columns.index(False)\n",
    "    tip_row = list(img[:, tip_col]).index(255)\n",
    "    left_tip[name] = (tip_col, tip_row)\n",
    "left_tip"
   ]
  },
  {
   "cell_type": "code",
   "execution_count": 275,
   "metadata": {},
   "outputs": [
    {
     "data": {
      "text/plain": [
       "{'E': (370, 28),\n",
       " 'F': (344, 22),\n",
       " 'G': (348, 3),\n",
       " 'H': (224, 29),\n",
       " 'I': (224, 15),\n",
       " 'J': (243, 21),\n",
       " 'K': (354, 7),\n",
       " 'L': (246, 6)}"
      ]
     },
     "execution_count": 275,
     "metadata": {},
     "output_type": "execute_result"
    }
   ],
   "source": [
    "right_hole = {}\n",
    "\n",
    "for name, img in standard_blocks.items():\n",
    "    ydim, xdim = img.shape\n",
    "    columns = [(img[:, x] != 128).all() for x in range(xdim)]\n",
    "    hole_col = xdim - list(reversed(columns)).index(True)\n",
    "    hole_row = list(img[:, hole_col]).index(128)\n",
    "    right_hole[name] = (hole_col, hole_row)\n",
    "right_hole"
   ]
  },
  {
   "cell_type": "code",
   "execution_count": 38,
   "metadata": {},
   "outputs": [
    {
     "data": {
      "text/plain": [
       "{0, 128, 179, 255}"
      ]
     },
     "execution_count": 38,
     "metadata": {},
     "output_type": "execute_result"
    }
   ],
   "source": [
    "import numpy as np\n",
    "\n",
    "arr = np.array(img)\n",
    "\n",
    "flatten = lambda ll: [x for l in ll for x in l]\n",
    "set(flatten(arr.tolist()))"
   ]
  },
  {
   "cell_type": "code",
   "execution_count": 39,
   "metadata": {},
   "outputs": [
    {
     "data": {
      "image/png": "[encoded data removed]",
      "text/plain": [
       "<PIL.PngImagePlugin.PngImageFile image mode=L size=199x100 at 0x7F33541BAA90>"
      ]
     },
     "execution_count": 39,
     "metadata": {},
     "output_type": "execute_result"
    }
   ],
   "source": [
    "arr."
   ]
  },
  {
   "cell_type": "code",
   "execution_count": 280,
   "metadata": {},
   "outputs": [],
   "source": [
    "def glue(A, B, ar, ac, br, bc):\n",
    "    ay, ax = A.shape\n",
    "    by, bx = B.shape\n",
    "\n",
    "    A.shape, B.shape\n",
    "\n",
    "    a1x, a1y = -ac, -ar\n",
    "    a2x, a2y = a1x + ax, a1y + ay\n",
    "\n",
    "    b1x, b1y = -bc, -br\n",
    "    b2x, b2y = b1x + bx, b1y + by\n",
    "\n",
    "    c1x = min(a1x, b1x)\n",
    "    c1y = min(a1y, b1y)\n",
    "\n",
    "    c2x = max(a2x, b2x)\n",
    "    c2y = max(a2y, b2y)\n",
    "\n",
    "    a1x, a2x = a1x - c1x, a2x - c1x\n",
    "    b1x, b2x = b1x - c1x, b2x - c1x\n",
    "    c1x, c2x = c1x - c1x, c2x - c1x\n",
    "\n",
    "    a1y, a2y = a1y - c1y, a2y - c1y\n",
    "    b1y, b2y = b1y - c1y, b2y - c1y\n",
    "    c1y, c2y = c1y - c1y, c2y - c1y\n",
    "\n",
    "    C = np.zeros((c2y, c2x))\n",
    "    C[a1y:a2y, a1x:a2x] += A\n",
    "    C[b1y:b2y, b1x:b2x] += B\n",
    "    \n",
    "    return C"
   ]
  },
  {
   "cell_type": "code",
   "execution_count": 283,
   "metadata": {},
   "outputs": [],
   "source": [
    "def glue_blocks(nameA, nameB):\n",
    "    ac, ar = left_tip[nameA]\n",
    "    bc, br = right_hole[nameB]\n",
    "    return glue(\n",
    "        A=standard_blocks[nameA],\n",
    "        B=standard_blocks[nameB],\n",
    "        ar=ar, ac=ac, br=br, bc=bc\n",
    "    )"
   ]
  },
  {
   "cell_type": "code",
   "execution_count": 284,
   "metadata": {},
   "outputs": [
    {
     "data": {
      "text/plain": [
       "array([[128., 128., 128., ...,   0.,   0.,   0.],\n",
       "       [128., 128., 128., ...,   0.,   0.,   0.],\n",
       "       [128., 128., 128., ...,   0.,   0.,   0.],\n",
       "       ...,\n",
       "       [  0.,   0.,   0., ..., 128., 128., 128.],\n",
       "       [  0.,   0.,   0., ..., 128., 128., 128.],\n",
       "       [  0.,   0.,   0., ..., 128., 128., 128.]])"
      ]
     },
     "execution_count": 284,
     "metadata": {},
     "output_type": "execute_result"
    }
   ],
   "source": [
    "glue_blocks(\"I\", \"J\")"
   ]
  },
  {
   "cell_type": "code",
   "execution_count": null,
   "metadata": {},
   "outputs": [],
   "source": []
  },
  {
   "cell_type": "code",
   "execution_count": 279,
   "metadata": {},
   "outputs": [],
   "source": [
    "ac, ar = left_tip[nameA]\n",
    "bc, br = right_hole[nameB]\n",
    "glue(\n",
    "    A=standard_blocks[nameA],\n",
    "    B=standard_blocks[nameB],\n",
    "    ar=ar, ac=ac, br=br, bc=bc\n",
    ")"
   ]
  },
  {
   "cell_type": "code",
   "execution_count": null,
   "metadata": {},
   "outputs": [],
   "source": []
  }
 ],
 "metadata": {
  "kernelspec": {
   "display_name": "Python 3",
   "language": "python",
   "name": "python3"
  },
  "language_info": {
   "codemirror_mode": {
    "name": "ipython",
    "version": 3
   },
   "file_extension": ".py",
   "mimetype": "text/x-python",
   "name": "python",
   "nbconvert_exporter": "python",
   "pygments_lexer": "ipython3",
   "version": "3.7.6"
  }
 },
 "nbformat": 4,
 "nbformat_minor": 2
}
