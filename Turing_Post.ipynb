{
 "cells": [
  {
   "cell_type": "code",
   "execution_count": null,
   "metadata": {},
   "outputs": [],
   "source": [
    "# directions\n",
    "LEFT = \"l\"\n",
    "RIGHT = \"r\"\n",
    "\n",
    "# definiton of a Turing Machine that checks if the brackets are OK\n",
    "machine = {\n",
    "    \"tape_symbols\": [\"$\", \"(\", \")\", \"_\", \"e\"]\n",
    "    \"states\": [\"q_0\", \"q_acc\", \"q_rej\"],\n",
    "    \"acc_state\": \"q_acc\",\n",
    "    \"trans_function\": {\n",
    "        (\"$\", \"q_0\"): (\"$\", RIGHT, \"q_0\"),\n",
    "        (\"(\", \"q_0\"): (\"(\", RIGHT, \"q_0\"),\n",
    "        (\"e\", \"q_0\"): (\"\")\n",
    "        (\")\", \"q_0\"): (\"e\", RIGHT, \"q_rej\"),\n",
    "        (\")\", \"q_)\"): (\"e\", RIGHT, \"q_back\"),\n",
    "        (\"e\", \"q_)\"): (\"e\", RIGHT, \"q_)\"),\n",
    "        \n",
    "        (\"(\", \"q_back\"): (\"(\", LEFT, \"q_back\"),\n",
    "        (\"e\", \"q_back\"): (\"e\", LEFT, \"q_back\"),\n",
    "        (\")\", \"q_back\"): (\")\", LEFT, \"q_back\"),\n",
    "        (\"$\", \"q_back\"): (\"$\", RIGHT, \"q_0\"),\n",
    "        \n",
    "        \n",
    "    }\n",
    "}"
   ]
  },
  {
   "cell_type": "code",
   "execution_count": 30,
   "metadata": {},
   "outputs": [
    {
     "data": {
      "text/plain": [
       "'000'"
      ]
     },
     "execution_count": 30,
     "metadata": {},
     "output_type": "execute_result"
    }
   ],
   "source": [
    "symbols = [\"a\", \"b\", \"c\", \"d\", \"e\"]\n",
    "\n",
    "f\"{{0:0{ceil(log2(len(symbols)))}b}}\".format(symbols.index(\"a\"))"
   ]
  },
  {
   "cell_type": "code",
   "execution_count": 28,
   "metadata": {},
   "outputs": [],
   "source": [
    "from math import log2, floor, ceil"
   ]
  },
  {
   "cell_type": "code",
   "execution_count": 13,
   "metadata": {},
   "outputs": [],
   "source": [
    "symbols = [\"a\", \"b\", \"c\", \"d\", \"e\"]\n",
    "f\"{{{symbols.index('e')}:05b}}\""
   ]
  },
  {
   "cell_type": "code",
   "execution_count": 29,
   "metadata": {},
   "outputs": [
    {
     "data": {
      "text/plain": [
       "7"
      ]
     },
     "execution_count": 29,
     "metadata": {},
     "output_type": "execute_result"
    }
   ],
   "source": [
    "ceil(log2(100))"
   ]
  },
  {
   "cell_type": "code",
   "execution_count": 31,
   "metadata": {},
   "outputs": [
    {
     "data": {
      "text/plain": [
       "2"
      ]
     },
     "execution_count": 31,
     "metadata": {},
     "output_type": "execute_result"
    }
   ],
   "source": [
    "{1: 2}[1]"
   ]
  },
  {
   "cell_type": "code",
   "execution_count": null,
   "metadata": {},
   "outputs": [],
   "source": []
  }
 ],
 "metadata": {
  "kernelspec": {
   "display_name": "Python 3",
   "language": "python",
   "name": "python3"
  },
  "language_info": {
   "codemirror_mode": {
    "name": "ipython",
    "version": 3
   },
   "file_extension": ".py",
   "mimetype": "text/x-python",
   "name": "python",
   "nbconvert_exporter": "python",
   "pygments_lexer": "ipython3",
   "version": "3.7.6"
  }
 },
 "nbformat": 4,
 "nbformat_minor": 2
}
