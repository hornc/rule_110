{
 "cells": [
  {
   "cell_type": "code",
   "execution_count": null,
   "metadata": {},
   "outputs": [],
   "source": [
    "# directions\n",
    "LEFT = \"l\"\n",
    "RIGHT = \"r\"\n",
    "\n",
    "# definiton of a Turing Machine that checks if the brackets are OK\n",
    "machine = {\n",
    "    \"tape_symbols\": [\"$\", \"(\", \")\", \"_\", \"e\"]\n",
    "    \"states\": [\"q_0\", \"q_acc\", \"q_rej\"],\n",
    "    \"acc_state\": \"q_acc\",\n",
    "    \"trans_function\": {\n",
    "        (\"$\", \"q_0\"): (\"$\", RIGHT, \"q_0\"),\n",
    "        (\"(\", \"q_0\"): (\"(\", RIGHT, \"q_0\"),\n",
    "        (\"e\", \"q_0\"): (\"\")\n",
    "        (\")\", \"q_0\"): (\"e\", RIGHT, \"q_rej\"),\n",
    "        (\")\", \"q_)\"): (\"e\", RIGHT, \"q_back\"),\n",
    "        (\"e\", \"q_)\"): (\"e\", RIGHT, \"q_)\"),\n",
    "        \n",
    "        (\"(\", \"q_back\"): (\"(\", LEFT, \"q_back\"),\n",
    "        (\"e\", \"q_back\"): (\"e\", LEFT, \"q_back\"),\n",
    "        (\")\", \"q_back\"): (\")\", LEFT, \"q_back\"),\n",
    "        (\"$\", \"q_back\"): (\"$\", RIGHT, \"q_0\"),\n",
    "        \n",
    "        \n",
    "    }\n",
    "}"
   ]
  }
 ],
 "metadata": {
  "kernelspec": {
   "display_name": "Python 3",
   "language": "python",
   "name": "python3"
  },
  "language_info": {
   "codemirror_mode": {
    "name": "ipython",
    "version": 3
   },
   "file_extension": ".py",
   "mimetype": "text/x-python",
   "name": "python",
   "nbconvert_exporter": "python",
   "pygments_lexer": "ipython3",
   "version": "3.7.6"
  }
 },
 "nbformat": 4,
 "nbformat_minor": 2
}
